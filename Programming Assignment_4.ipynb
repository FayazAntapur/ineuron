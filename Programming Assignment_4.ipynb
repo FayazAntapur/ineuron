{
 "cells": [
  {
   "cell_type": "markdown",
   "id": "9e61fe2f",
   "metadata": {},
   "source": [
    "    1.\tWrite a Python Program to Find the Factorial of a Number?"
   ]
  },
  {
   "cell_type": "code",
   "execution_count": 11,
   "id": "08ca4f11",
   "metadata": {},
   "outputs": [],
   "source": [
    "def factorial(num):\n",
    "    fact = 1\n",
    "    for i in range(1,num+1):\n",
    "        fact = fact * i\n",
    "    return fact"
   ]
  },
  {
   "cell_type": "code",
   "execution_count": 14,
   "id": "2401254e",
   "metadata": {},
   "outputs": [],
   "source": [
    "f=factorial(5)"
   ]
  },
  {
   "cell_type": "code",
   "execution_count": 15,
   "id": "775ea136",
   "metadata": {},
   "outputs": [
    {
     "data": {
      "text/plain": [
       "120"
      ]
     },
     "execution_count": 15,
     "metadata": {},
     "output_type": "execute_result"
    }
   ],
   "source": [
    "f"
   ]
  },
  {
   "cell_type": "markdown",
   "id": "83194b15",
   "metadata": {},
   "source": [
    "    2.\tWrite a Python Program to Display the multiplication Table?"
   ]
  },
  {
   "cell_type": "code",
   "execution_count": 16,
   "id": "64b0513c",
   "metadata": {},
   "outputs": [],
   "source": [
    "def mul(num):\n",
    "    for i in range(1,11):\n",
    "        print(i * num)"
   ]
  },
  {
   "cell_type": "code",
   "execution_count": 17,
   "id": "705cb1c7",
   "metadata": {},
   "outputs": [
    {
     "name": "stdout",
     "output_type": "stream",
     "text": [
      "2\n",
      "4\n",
      "6\n",
      "8\n",
      "10\n",
      "12\n",
      "14\n",
      "16\n",
      "18\n",
      "20\n"
     ]
    }
   ],
   "source": [
    "mul(2)"
   ]
  },
  {
   "cell_type": "code",
   "execution_count": 18,
   "id": "5dcc00d1",
   "metadata": {},
   "outputs": [
    {
     "name": "stdout",
     "output_type": "stream",
     "text": [
      "5\n",
      "10\n",
      "15\n",
      "20\n",
      "25\n",
      "30\n",
      "35\n",
      "40\n",
      "45\n",
      "50\n"
     ]
    }
   ],
   "source": [
    "mul(5)"
   ]
  },
  {
   "cell_type": "markdown",
   "id": "7e8da134",
   "metadata": {},
   "source": [
    "    3.\tWrite a Python Program to Print the Fibonacci sequence?"
   ]
  },
  {
   "cell_type": "code",
   "execution_count": 19,
   "id": "32935b20",
   "metadata": {},
   "outputs": [],
   "source": [
    "def fib(num):\n",
    "    a = 0\n",
    "    b = 1\n",
    "    for i in range(num):\n",
    "        c = a + b\n",
    "        a = b\n",
    "        b = c\n",
    "        print(c)"
   ]
  },
  {
   "cell_type": "code",
   "execution_count": 20,
   "id": "7b59692c",
   "metadata": {},
   "outputs": [
    {
     "name": "stdout",
     "output_type": "stream",
     "text": [
      "1\n",
      "2\n",
      "3\n",
      "5\n",
      "8\n"
     ]
    }
   ],
   "source": [
    "fib(5)"
   ]
  },
  {
   "cell_type": "code",
   "execution_count": 21,
   "id": "6fe758cd",
   "metadata": {},
   "outputs": [
    {
     "name": "stdout",
     "output_type": "stream",
     "text": [
      "1\n",
      "2\n",
      "3\n",
      "5\n",
      "8\n",
      "13\n",
      "21\n",
      "34\n",
      "55\n",
      "89\n",
      "144\n"
     ]
    }
   ],
   "source": [
    "fib(11)"
   ]
  },
  {
   "cell_type": "markdown",
   "id": "84f65854",
   "metadata": {},
   "source": [
    "    4.\tWrite a Python Program to Check Armstrong Number?"
   ]
  },
  {
   "cell_type": "code",
   "execution_count": 55,
   "id": "510f0389",
   "metadata": {},
   "outputs": [],
   "source": [
    "def armstrong(num):\n",
    "    num = int(num)\n",
    "    x = num\n",
    "    arm = 0\n",
    "    while x > 0:\n",
    "        i = x % 10\n",
    "        cube = i * i * i\n",
    "        arm = arm + cube\n",
    "        x//=10\n",
    "    if num == arm:\n",
    "        print(\"An Armstrong number\")\n",
    "    else:\n",
    "        print(\"Not An Armstrong number\")       "
   ]
  },
  {
   "cell_type": "code",
   "execution_count": 56,
   "id": "ff2289f4",
   "metadata": {},
   "outputs": [
    {
     "name": "stdout",
     "output_type": "stream",
     "text": [
      "An Armstrong number\n"
     ]
    }
   ],
   "source": [
    "armstrong(370)"
   ]
  },
  {
   "cell_type": "code",
   "execution_count": 57,
   "id": "bec61d6c",
   "metadata": {},
   "outputs": [
    {
     "name": "stdout",
     "output_type": "stream",
     "text": [
      "Not An Armstrong number\n"
     ]
    }
   ],
   "source": [
    "armstrong(374)"
   ]
  },
  {
   "cell_type": "code",
   "execution_count": 58,
   "id": "8cd33dff",
   "metadata": {},
   "outputs": [
    {
     "name": "stdout",
     "output_type": "stream",
     "text": [
      "Not An Armstrong number\n"
     ]
    }
   ],
   "source": [
    "armstrong(10)"
   ]
  },
  {
   "cell_type": "markdown",
   "id": "608b2c05",
   "metadata": {},
   "source": [
    "    5.\tWrite a Python Program to Find Armstrong Number in an Interval?"
   ]
  },
  {
   "cell_type": "code",
   "execution_count": 64,
   "id": "36c5a07d",
   "metadata": {},
   "outputs": [],
   "source": [
    "def arm_interval(num):\n",
    "    for i in range(0, num):\n",
    "        temp = i\n",
    "        arm = 0\n",
    "        while temp > 0:\n",
    "            x = temp % 10\n",
    "            cube = x * x * x\n",
    "            arm = arm + cube\n",
    "            temp//=10\n",
    "        if i == arm:\n",
    "            print(i)"
   ]
  },
  {
   "cell_type": "code",
   "execution_count": 65,
   "id": "d3251183",
   "metadata": {},
   "outputs": [
    {
     "name": "stdout",
     "output_type": "stream",
     "text": [
      "0\n",
      "1\n"
     ]
    }
   ],
   "source": [
    "arm_interval(4)"
   ]
  },
  {
   "cell_type": "code",
   "execution_count": 66,
   "id": "578a097b",
   "metadata": {},
   "outputs": [
    {
     "name": "stdout",
     "output_type": "stream",
     "text": [
      "0\n",
      "1\n",
      "153\n",
      "370\n"
     ]
    }
   ],
   "source": [
    "arm_interval(371)"
   ]
  },
  {
   "cell_type": "markdown",
   "id": "8237247c",
   "metadata": {},
   "source": [
    "    6.\tWrite a Python Program to Find the Sum of Natural Numbers?"
   ]
  },
  {
   "cell_type": "code",
   "execution_count": 69,
   "id": "390860e5",
   "metadata": {},
   "outputs": [],
   "source": [
    "def sum_of_natural_numbers(num):\n",
    "    sums = 0\n",
    "    if num < 0:\n",
    "        print(\"enter +ver number\")\n",
    "    else:\n",
    "        for i in range(num+1):\n",
    "           sums = sums + i\n",
    "    print(sums)"
   ]
  },
  {
   "cell_type": "code",
   "execution_count": 70,
   "id": "5768a83e",
   "metadata": {},
   "outputs": [
    {
     "name": "stdout",
     "output_type": "stream",
     "text": [
      "55\n"
     ]
    }
   ],
   "source": [
    "sum_of_natural_numbers(10)"
   ]
  },
  {
   "cell_type": "code",
   "execution_count": 72,
   "id": "6176f503",
   "metadata": {},
   "outputs": [
    {
     "name": "stdout",
     "output_type": "stream",
     "text": [
      "4005\n"
     ]
    }
   ],
   "source": [
    "sum_of_natural_numbers(89)"
   ]
  },
  {
   "cell_type": "code",
   "execution_count": null,
   "id": "20f63909",
   "metadata": {},
   "outputs": [],
   "source": []
  }
 ],
 "metadata": {
  "kernelspec": {
   "display_name": "Python 3 (ipykernel)",
   "language": "python",
   "name": "python3"
  },
  "language_info": {
   "codemirror_mode": {
    "name": "ipython",
    "version": 3
   },
   "file_extension": ".py",
   "mimetype": "text/x-python",
   "name": "python",
   "nbconvert_exporter": "python",
   "pygments_lexer": "ipython3",
   "version": "3.9.7"
  }
 },
 "nbformat": 4,
 "nbformat_minor": 5
}

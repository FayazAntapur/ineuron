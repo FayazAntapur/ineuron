{
 "cells": [
  {
   "cell_type": "markdown",
   "id": "5f6bbcc0",
   "metadata": {},
   "source": [
    "    1.Write a Python program to convert kilometers to miles?"
   ]
  },
  {
   "cell_type": "code",
   "execution_count": 5,
   "id": "f3db3e6a",
   "metadata": {},
   "outputs": [
    {
     "name": "stdout",
     "output_type": "stream",
     "text": [
      "enter kilometers 56\n",
      "56 kilometer equals to 34.796776 miles \n"
     ]
    }
   ],
   "source": [
    "num = int(input(\"enter kilometers \"))\n",
    "miles = num * 0.621371\n",
    "print(\"{} kilometer equals to {} miles \".format(num,miles))"
   ]
  },
  {
   "cell_type": "markdown",
   "id": "4f8751d4",
   "metadata": {},
   "source": [
    "    2.Write a Python program to convert Celsius to Fahrenheit?"
   ]
  },
  {
   "cell_type": "code",
   "execution_count": 9,
   "id": "99576d48",
   "metadata": {},
   "outputs": [
    {
     "data": {
      "text/plain": [
       "35.6"
      ]
     },
     "execution_count": 9,
     "metadata": {},
     "output_type": "execute_result"
    }
   ],
   "source": [
    "(2 * 9/5) + 32"
   ]
  },
  {
   "cell_type": "code",
   "execution_count": 10,
   "id": "655f4bc3",
   "metadata": {},
   "outputs": [
    {
     "name": "stdout",
     "output_type": "stream",
     "text": [
      "enter Celsius 2\n",
      "2 Celsius equals to 35.6 Fahrenheit \n"
     ]
    }
   ],
   "source": [
    "num = int(input(\"enter Celsius \"))\n",
    "far = (num * 9/5) + 32\n",
    "print(\"{} Celsius equals to {} Fahrenheit \".format(num,far))"
   ]
  },
  {
   "cell_type": "markdown",
   "id": "288d6464",
   "metadata": {},
   "source": [
    "    3.Write a Python program to display calendar?"
   ]
  },
  {
   "cell_type": "code",
   "execution_count": 22,
   "id": "b39f70ee",
   "metadata": {},
   "outputs": [
    {
     "name": "stdout",
     "output_type": "stream",
     "text": [
      "enter month in mm format: 11\n",
      "enter year in yyyy format 2021\n",
      "   November 2021\n",
      "Mo Tu We Th Fr Sa Su\n",
      " 1  2  3  4  5  6  7\n",
      " 8  9 10 11 12 13 14\n",
      "15 16 17 18 19 20 21\n",
      "22 23 24 25 26 27 28\n",
      "29 30\n",
      "\n"
     ]
    }
   ],
   "source": [
    "import calendar\n",
    "month = int(input(\"enter month in mm format: \"))\n",
    "year = int(input(\"enter year in yyyy format \"))\n",
    "print(calendar.month(year,month))"
   ]
  },
  {
   "cell_type": "markdown",
   "id": "57bd97e7",
   "metadata": {},
   "source": [
    "    4.Write a Python program to solve quadratic equation?"
   ]
  },
  {
   "cell_type": "code",
   "execution_count": null,
   "id": "d2dd7f6a",
   "metadata": {},
   "outputs": [],
   "source": []
  },
  {
   "cell_type": "markdown",
   "id": "95974995",
   "metadata": {},
   "source": [
    "    5.Write a Python program to swap two variables without temp variable?"
   ]
  },
  {
   "cell_type": "code",
   "execution_count": 25,
   "id": "a2a0aab1",
   "metadata": {},
   "outputs": [
    {
     "name": "stdout",
     "output_type": "stream",
     "text": [
      "Before swapping the value of a is 20 and value of b is 30\n",
      "After swapping the value of a is 30 and value of b is 20\n"
     ]
    }
   ],
   "source": [
    "a = 20\n",
    "b = 30\n",
    "print(\"Before swapping the value of a is {} and value of b is {}\".format(a,b))\n",
    "a = a + b\n",
    "b = a - b\n",
    "a = a - b\n",
    "print(\"After swapping the value of a is {} and value of b is {}\".format(a,b))"
   ]
  },
  {
   "cell_type": "code",
   "execution_count": 32,
   "id": "22a0a7cb",
   "metadata": {},
   "outputs": [
    {
     "name": "stdout",
     "output_type": "stream",
     "text": [
      "Enter value of a is 1\n",
      "Enter value of b is 4\n",
      "Enter value of c is 2\n",
      "real solutions\n",
      "-0.5857864376269049\n",
      "-3.414213562373095\n"
     ]
    }
   ],
   "source": [
    "import math\n",
    "\n",
    "a = int(input(\"Enter value of a is \"))\n",
    "b = int(input(\"Enter value of b is \"))\n",
    "c = int(input(\"Enter value of c is \"))\n",
    "\n",
    "if a == 0:\n",
    "    print(\"Please enter valid valid\")\n",
    "else:\n",
    "    # first need to calculate discriminat (b2 -4ac)\n",
    "    dis = (b*b) - (4*a*c)\n",
    "    sqrt_value = math.sqrt(abs(dis))\n",
    "    \n",
    "    #check dis vale is +ve, -ve or zero\n",
    "    if dis > 0:\n",
    "        print(\"real solutions\")\n",
    "        print((-b+sqrt_value)/(2*a))\n",
    "        print((-b-sqrt_value)/(2*a))\n",
    "    elif dis == 0:\n",
    "        print(\"one solution\")\n",
    "        print(-b/(2*a))\n",
    "    else:\n",
    "        print(\"complex solutions\")\n",
    "        print(-b/(2*a), \"+i\",sqrt_value)\n",
    "        print(-b/(2*a), \"-i\",sqrt_value)"
   ]
  },
  {
   "cell_type": "code",
   "execution_count": null,
   "id": "a5858a33",
   "metadata": {},
   "outputs": [],
   "source": []
  }
 ],
 "metadata": {
  "kernelspec": {
   "display_name": "Python 3 (ipykernel)",
   "language": "python",
   "name": "python3"
  },
  "language_info": {
   "codemirror_mode": {
    "name": "ipython",
    "version": 3
   },
   "file_extension": ".py",
   "mimetype": "text/x-python",
   "name": "python",
   "nbconvert_exporter": "python",
   "pygments_lexer": "ipython3",
   "version": "3.9.7"
  }
 },
 "nbformat": 4,
 "nbformat_minor": 5
}
